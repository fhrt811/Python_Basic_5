{
 "cells": [
  {
   "cell_type": "code",
   "execution_count": null,
   "id": "c703a181",
   "metadata": {},
   "outputs": [],
   "source": [
    "Q1:\n",
    "What does an empty dictionary's code looks like?"
   ]
  },
  {
   "cell_type": "code",
   "execution_count": null,
   "id": "6ec0b79a",
   "metadata": {},
   "outputs": [],
   "source": [
    "Ans1:\n",
    "Empty dictionary will look like this - {}"
   ]
  },
  {
   "cell_type": "code",
   "execution_count": 1,
   "id": "c46ca1dc",
   "metadata": {},
   "outputs": [
    {
     "data": {
      "text/plain": [
       "dict"
      ]
     },
     "execution_count": 1,
     "metadata": {},
     "output_type": "execute_result"
    }
   ],
   "source": [
    "type({})"
   ]
  },
  {
   "cell_type": "code",
   "execution_count": null,
   "id": "fe9e058c",
   "metadata": {},
   "outputs": [],
   "source": [
    "Q2:\n",
    "What is the value of a dictionary value with the key 'foo' and a value 42?"
   ]
  },
  {
   "cell_type": "code",
   "execution_count": null,
   "id": "6c68244a",
   "metadata": {},
   "outputs": [],
   "source": [
    "Ans2:\n",
    "The value of a dictionary value with the key 'foo' and a value 42 - {'foo':42}"
   ]
  },
  {
   "cell_type": "code",
   "execution_count": null,
   "id": "62d21b02",
   "metadata": {},
   "outputs": [],
   "source": [
    "Q3:\n",
    "What is the most significant distinction between a dictionary and a list?"
   ]
  },
  {
   "cell_type": "code",
   "execution_count": null,
   "id": "393a6ca5",
   "metadata": {},
   "outputs": [],
   "source": [
    "Ans3:\n",
    "The items stored in the dictionary are unordered, while the items in the list are ordered."
   ]
  },
  {
   "cell_type": "code",
   "execution_count": null,
   "id": "b2ed82b9",
   "metadata": {},
   "outputs": [],
   "source": [
    "Q4:\n",
    "What happens if you try to access spam['foo'] if spam is {'bar': 100}?"
   ]
  },
  {
   "cell_type": "code",
   "execution_count": 2,
   "id": "72264b9a",
   "metadata": {},
   "outputs": [
    {
     "ename": "KeyError",
     "evalue": "'foo'",
     "output_type": "error",
     "traceback": [
      "\u001b[1;31m---------------------------------------------------------------------------\u001b[0m",
      "\u001b[1;31mKeyError\u001b[0m                                  Traceback (most recent call last)",
      "\u001b[1;32m~\\AppData\\Local\\Temp\\ipykernel_11000\\4026577702.py\u001b[0m in \u001b[0;36m<module>\u001b[1;34m\u001b[0m\n\u001b[0;32m      1\u001b[0m \u001b[0mspam\u001b[0m \u001b[1;33m=\u001b[0m \u001b[1;33m{\u001b[0m\u001b[1;34m'bar'\u001b[0m\u001b[1;33m:\u001b[0m\u001b[1;36m100\u001b[0m\u001b[1;33m}\u001b[0m\u001b[1;33m\u001b[0m\u001b[1;33m\u001b[0m\u001b[0m\n\u001b[1;32m----> 2\u001b[1;33m \u001b[0mspam\u001b[0m\u001b[1;33m[\u001b[0m\u001b[1;34m'foo'\u001b[0m\u001b[1;33m]\u001b[0m\u001b[1;33m\u001b[0m\u001b[1;33m\u001b[0m\u001b[0m\n\u001b[0m",
      "\u001b[1;31mKeyError\u001b[0m: 'foo'"
     ]
    }
   ],
   "source": [
    "Ans4:\n",
    "If we try to access spam['foo'] where spam is {'bar': 100} gives Key Error\n",
    "spam = {'bar':100}\n",
    "spam['foo']"
   ]
  },
  {
   "cell_type": "code",
   "execution_count": null,
   "id": "fa70c688",
   "metadata": {},
   "outputs": [],
   "source": [
    "Q5:\n",
    "If a dictionary is stored in spam, what is the difference between the expressions 'cat' in spam and 'cat' in spam.keys()?"
   ]
  },
  {
   "cell_type": "code",
   "execution_count": null,
   "id": "29f8c934",
   "metadata": {},
   "outputs": [],
   "source": [
    "Ans5:\n",
    "There is no difference between the expressions 'cat' in spam and 'cat' in spam.keys(). \n",
    "The 'in' operator checks whether a value exists as a key in the dictionary stored in spam."
   ]
  },
  {
   "cell_type": "code",
   "execution_count": null,
   "id": "793c4903",
   "metadata": {},
   "outputs": [],
   "source": [
    "Q6:\n",
    "If a dictionary is stored in spam, what is the difference between the expressions 'cat' in spam and 'cat' in spam.values()?"
   ]
  },
  {
   "cell_type": "code",
   "execution_count": null,
   "id": "12a87fb5",
   "metadata": {},
   "outputs": [],
   "source": [
    "Ans6:\n",
    "'cat' in spam checks whether there is a 'cat' key in the dictionary or not.\n",
    "While 'cat' in spam.values() checks whether there is a value 'cat' for one of the keys in spam."
   ]
  },
  {
   "cell_type": "code",
   "execution_count": null,
   "id": "69e9bec2",
   "metadata": {},
   "outputs": [],
   "source": [
    "Q7:\n",
    "What is a shortcut for the following code?\n",
    "\n",
    "if 'color' not in spam:\n",
    "    spam['color'] = 'black'"
   ]
  },
  {
   "cell_type": "code",
   "execution_count": 3,
   "id": "eabb78ae",
   "metadata": {},
   "outputs": [],
   "source": [
    "Ans7:\n",
    "The shortcut for the above code is:\n",
    "spam.setdefault('color', 'black')"
   ]
  },
  {
   "cell_type": "code",
   "execution_count": null,
   "id": "de0a18b5",
   "metadata": {},
   "outputs": [],
   "source": [
    "Q8:\n",
    "HOw do you \"pretty print\" dictionary values using which module and function?"
   ]
  },
  {
   "cell_type": "code",
   "execution_count": null,
   "id": "2018f8fb",
   "metadata": {},
   "outputs": [],
   "source": [
    "Ans8:\n",
    "Using:\n",
    "pprint.pprint()"
   ]
  }
 ],
 "metadata": {
  "kernelspec": {
   "display_name": "Python 3 (ipykernel)",
   "language": "python",
   "name": "python3"
  },
  "language_info": {
   "codemirror_mode": {
    "name": "ipython",
    "version": 3
   },
   "file_extension": ".py",
   "mimetype": "text/x-python",
   "name": "python",
   "nbconvert_exporter": "python",
   "pygments_lexer": "ipython3",
   "version": "3.9.13"
  }
 },
 "nbformat": 4,
 "nbformat_minor": 5
}
